{
 "cells": [
  {
   "cell_type": "markdown",
   "metadata": {},
   "source": [
    "Python was not designed to be very good at parallel processing. There are two major problems at the core of the language that make it hard to implement parallel algorithms.\n",
    "\n",
    "* The Global Interpreter Lock\n",
    "* Flexible object model\n",
    "\n",
    "The first of these issues is the most famous obstacle towards a convincing multi-threading approach, where a single instance of the Python interpreter runs in several threads. The second point is more subtle, but makes it harder to do multi-processing, where several independent instances of the Python interpreter work together to achieve parallelism. We will first explain an elegant way to work around the Global Interpreter Lock, or GIL: use Cython.\n",
    "\n",
    "### Using Cython to lift the GIL\n",
    "The GIL means that the Python interpreter will only operate on one thread at a time. Even when we think we run in a gazillion threads, Python itself uses only one. Multi-threading in Python is only usefull to wait for I/O and to perform system calls. To do useful CPU intensive work in multi-threaded mode, we need to develop functions that are implemented in C, and tell Python when we call these functions not to worry about the GIL. The easiest way to achieve this, is to use Cython. We develop a number-crunching prime adder, and have it run in parallel threads. \n",
    "\n",
    "We'll load the ``multiprocessing``, ``threading`` and ``queue`` modules to do our plumbing, and the ``cython`` extension so we can do the number crunching."
   ]
  },
  {
   "cell_type": "code",
   "execution_count": 20,
   "metadata": {},
   "outputs": [
    {
     "name": "stdout",
     "output_type": "stream",
     "text": [
      "The cython extension is already loaded. To reload it, use:\n",
      "  %reload_ext cython\n"
     ]
    }
   ],
   "source": [
    "%load_ext cython\n",
    "import multiprocessing\n",
    "import threading\n",
    "import queue"
   ]
  },
  {
   "cell_type": "markdown",
   "metadata": {},
   "source": [
    "We define a function that computes the sum of all primes below a certain integer `n`, and don't try to be smart about it; the point is that it needs a lot of computation. These functions are designated ``nogil``, so that we can be certain no Python objects are accessed. Finally we create a single Python exposed function that uses the:\n",
    "\n",
    "```python\n",
    "    with nogil:\n",
    "        ...\n",
    "```\n",
    "\n",
    "statement. This is a context-manager that lifts the GIL for the duration of its contents."
   ]
  },
  {
   "cell_type": "code",
   "execution_count": 3,
   "metadata": {},
   "outputs": [],
   "source": [
    "%%cython\n",
    "\n",
    "from libc.math cimport ceil, sqrt\n",
    "\n",
    "\n",
    "cdef inline int _is_prime(int n) nogil:\n",
    "   \"\"\"return a boolean, is the input integer a prime?\"\"\"\n",
    "   if n == 2:\n",
    "       return True\n",
    "   cdef int max_i = <int>ceil(sqrt(n))\n",
    "   cdef int i = 2\n",
    "   while i <= max_i:\n",
    "      if n % i == 0:\n",
    "          return False\n",
    "      i += 1\n",
    "   return True\n",
    "\n",
    "\n",
    "cdef unsigned long _sum_primes(int n) nogil:\n",
    "   \"\"\"return sum of all primes less than n \"\"\"\n",
    "   cdef unsigned long i = 0\n",
    "   cdef int x\n",
    "   for x in range(2, n):\n",
    "       if _is_prime(x):\n",
    "           i += x\n",
    "   return i\n",
    "\n",
    "\n",
    "def sum_primes(int n):\n",
    "    with nogil:\n",
    "        result = _sum_primes(n)\n",
    "    return result"
   ]
  },
  {
   "cell_type": "markdown",
   "metadata": {},
   "source": [
    "In fact, we only loaded the ``multiprocessing`` module to get the number of CPUs on this machine. We also get a decent amount of work to do in the ``input_range``."
   ]
  },
  {
   "cell_type": "code",
   "execution_count": 23,
   "metadata": {},
   "outputs": [
    {
     "name": "stdout",
     "output_type": "stream",
     "text": [
      "We have 4 cores to work on!\n"
     ]
    }
   ],
   "source": [
    "input_range = range(int(1e6), int(2e6), int(5e4))\n",
    "ncpus = multiprocessing.cpu_count()\n",
    "print(\"We have {} cores to work on!\".format(ncpus))"
   ]
  },
  {
   "cell_type": "markdown",
   "metadata": {},
   "source": [
    "Let's first run our tests in a single thread:"
   ]
  },
  {
   "cell_type": "code",
   "execution_count": 25,
   "metadata": {},
   "outputs": [
    {
     "name": "stdout",
     "output_type": "stream",
     "text": [
      "37550402023 41276629127 45125753695 49161463647 53433406131 57759511224 62287995772 66955471633 71881256647 76875349479 82074443256 87423357964 92878592188 98576757977 104450958704 110431974857 116581137847 122913801665 129451433482 136136977177 \n",
      "CPU times: user 8.6 s, sys: 6.99 ms, total: 8.61 s\n",
      "Wall time: 8.62 s\n"
     ]
    }
   ],
   "source": [
    "%%time\n",
    "\n",
    "for i in input_range:\n",
    "    print(sum_primes(i), end=' ', flush=True)\n",
    "print()"
   ]
  },
  {
   "cell_type": "markdown",
   "metadata": {},
   "source": [
    "We can do better than that! We now create a queue containing the work to be done, and a pool of threads eating from this queue. The workers will keep on working as long as the queue has work for them."
   ]
  },
  {
   "cell_type": "code",
   "execution_count": 26,
   "metadata": {},
   "outputs": [
    {
     "name": "stdout",
     "output_type": "stream",
     "text": [
      "37550402023 41276629127 45125753695 49161463647 53433406131 57759511224 62287995772 66955471633 71881256647 76875349479 82074443256 87423357964 92878592188 98576757977 104450958704 110431974857 116581137847 122913801665 129451433482 136136977177 CPU times: user 14.7 s, sys: 7.84 ms, total: 14.7 s\n",
      "Wall time: 4.07 s\n"
     ]
    }
   ],
   "source": [
    "%%time\n",
    "\n",
    "### We need to define a worker function that fetches jobs from the queue.\n",
    "def worker(q):\n",
    "    while True:\n",
    "        try:\n",
    "            x = q.get(block=False)\n",
    "            print(sum_primes(x), end=' ', flush=True)\n",
    "        except queue.Empty:\n",
    "            break\n",
    "\n",
    "### Create the queue, and fill it with input values\n",
    "work_queue = queue.Queue()\n",
    "for i in input_range:\n",
    "    work_queue.put(i)\n",
    "\n",
    "### Start a number of threads\n",
    "threads = [\n",
    "    threading.Thread(target=worker, args=(work_queue,))\n",
    "    for i in range(ncpus)]\n",
    "\n",
    "for t in threads:\n",
    "    t.start()\n",
    "\n",
    "### Wait until all of them are done\n",
    "for t in threads:\n",
    "    t.join()"
   ]
  },
  {
   "cell_type": "markdown",
   "metadata": {},
   "source": [
    "On my laptop, a dual-core hyper-threaded `Intel(R) Core(TM) i5-5300U CPU`, this runs just over two times faster than the single threaded code. Setting up a queue and a pool of workers is quite cumbersome. Also, this approach doesn't scale up if the dependencies between our computations get more complex. Next we'll use Noodles to provide the multi-threaded environment to execute our work. We'll need three functions:\n",
    "* ``schedule`` to decorate our work function\n",
    "* ``run_parallel`` to run the work in parallel\n",
    "* ``gather`` to collect our work into a workflow"
   ]
  },
  {
   "cell_type": "code",
   "execution_count": 30,
   "metadata": {
    "collapsed": true
   },
   "outputs": [],
   "source": [
    "from noodles import (schedule, run_parallel, gather)"
   ]
  },
  {
   "cell_type": "code",
   "execution_count": 36,
   "metadata": {},
   "outputs": [
    {
     "name": "stdout",
     "output_type": "stream",
     "text": [
      "37550402023 41276629127 45125753695 49161463647 53433406131 57759511224 62287995772 66955471633 71881256647 76875349479 82074443256 87423357964 92878592188 98576757977 104450958704 110431974857 116581137847 122913801665 129451433482 136136977177 \n",
      "CPU times: user 14.6 s, sys: 15.8 ms, total: 14.6 s\n",
      "Wall time: 4.07 s\n"
     ]
    }
   ],
   "source": [
    "%%time\n",
    "\n",
    "@schedule\n",
    "def s_sum_primes(n):\n",
    "    result = sum_primes(n)\n",
    "    print(result, end=' ', flush=True)\n",
    "    return result\n",
    "\n",
    "p_prime_sums = gather(*(s_sum_primes(i) for i in input_range))\n",
    "prime_sums = run_parallel(p_prime_sums, n_threads=ncpus)\n",
    "print()"
   ]
  },
  {
   "cell_type": "code",
   "execution_count": null,
   "metadata": {
    "collapsed": true
   },
   "outputs": [],
   "source": []
  }
 ],
 "metadata": {
  "kernelspec": {
   "display_name": "Python 3",
   "language": "python",
   "name": "python3"
  },
  "language_info": {
   "codemirror_mode": {
    "name": "ipython",
    "version": 3
   },
   "file_extension": ".py",
   "mimetype": "text/x-python",
   "name": "python",
   "nbconvert_exporter": "python",
   "pygments_lexer": "ipython3",
   "version": "3.6.2"
  }
 },
 "nbformat": 4,
 "nbformat_minor": 2
}
